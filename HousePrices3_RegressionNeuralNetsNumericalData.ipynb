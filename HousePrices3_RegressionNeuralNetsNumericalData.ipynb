{
 "cells": [
  {
   "cell_type": "markdown",
   "metadata": {},
   "source": [
    "# Régression avec les données numériques les plus correlées\n",
    "Pour ce troisième et dernier notebook sur la régression, nous avons exploité uniquement les données numériques les plus corrélées au prix de vente."
   ]
  },
  {
   "cell_type": "code",
   "execution_count": 2,
   "metadata": {},
   "outputs": [
    {
     "name": "stderr",
     "output_type": "stream",
     "text": [
      "Using TensorFlow backend.\n"
     ]
    }
   ],
   "source": [
    "import tensorflow as tf\n",
    "import keras\n",
    "import numpy as np\n",
    "import pandas as pd"
   ]
  },
  {
   "cell_type": "code",
   "execution_count": 3,
   "metadata": {},
   "outputs": [
    {
     "data": {
      "text/html": [
       "<div>\n",
       "<style scoped>\n",
       "    .dataframe tbody tr th:only-of-type {\n",
       "        vertical-align: middle;\n",
       "    }\n",
       "\n",
       "    .dataframe tbody tr th {\n",
       "        vertical-align: top;\n",
       "    }\n",
       "\n",
       "    .dataframe thead th {\n",
       "        text-align: right;\n",
       "    }\n",
       "</style>\n",
       "<table border=\"1\" class=\"dataframe\">\n",
       "  <thead>\n",
       "    <tr style=\"text-align: right;\">\n",
       "      <th></th>\n",
       "      <th>Id</th>\n",
       "      <th>MSSubClass</th>\n",
       "      <th>MSZoning</th>\n",
       "      <th>LotFrontage</th>\n",
       "      <th>LotArea</th>\n",
       "      <th>Street</th>\n",
       "      <th>Alley</th>\n",
       "      <th>LotShape</th>\n",
       "      <th>LandContour</th>\n",
       "      <th>Utilities</th>\n",
       "      <th>...</th>\n",
       "      <th>PoolArea</th>\n",
       "      <th>PoolQC</th>\n",
       "      <th>Fence</th>\n",
       "      <th>MiscFeature</th>\n",
       "      <th>MiscVal</th>\n",
       "      <th>MoSold</th>\n",
       "      <th>YrSold</th>\n",
       "      <th>SaleType</th>\n",
       "      <th>SaleCondition</th>\n",
       "      <th>SalePrice</th>\n",
       "    </tr>\n",
       "  </thead>\n",
       "  <tbody>\n",
       "    <tr>\n",
       "      <th>0</th>\n",
       "      <td>1</td>\n",
       "      <td>60</td>\n",
       "      <td>RL</td>\n",
       "      <td>65.0</td>\n",
       "      <td>8450</td>\n",
       "      <td>Pave</td>\n",
       "      <td>NaN</td>\n",
       "      <td>Reg</td>\n",
       "      <td>Lvl</td>\n",
       "      <td>AllPub</td>\n",
       "      <td>...</td>\n",
       "      <td>0</td>\n",
       "      <td>NaN</td>\n",
       "      <td>NaN</td>\n",
       "      <td>NaN</td>\n",
       "      <td>0</td>\n",
       "      <td>2</td>\n",
       "      <td>2008</td>\n",
       "      <td>WD</td>\n",
       "      <td>Normal</td>\n",
       "      <td>208500</td>\n",
       "    </tr>\n",
       "    <tr>\n",
       "      <th>1</th>\n",
       "      <td>2</td>\n",
       "      <td>20</td>\n",
       "      <td>RL</td>\n",
       "      <td>80.0</td>\n",
       "      <td>9600</td>\n",
       "      <td>Pave</td>\n",
       "      <td>NaN</td>\n",
       "      <td>Reg</td>\n",
       "      <td>Lvl</td>\n",
       "      <td>AllPub</td>\n",
       "      <td>...</td>\n",
       "      <td>0</td>\n",
       "      <td>NaN</td>\n",
       "      <td>NaN</td>\n",
       "      <td>NaN</td>\n",
       "      <td>0</td>\n",
       "      <td>5</td>\n",
       "      <td>2007</td>\n",
       "      <td>WD</td>\n",
       "      <td>Normal</td>\n",
       "      <td>181500</td>\n",
       "    </tr>\n",
       "    <tr>\n",
       "      <th>2</th>\n",
       "      <td>3</td>\n",
       "      <td>60</td>\n",
       "      <td>RL</td>\n",
       "      <td>68.0</td>\n",
       "      <td>11250</td>\n",
       "      <td>Pave</td>\n",
       "      <td>NaN</td>\n",
       "      <td>IR1</td>\n",
       "      <td>Lvl</td>\n",
       "      <td>AllPub</td>\n",
       "      <td>...</td>\n",
       "      <td>0</td>\n",
       "      <td>NaN</td>\n",
       "      <td>NaN</td>\n",
       "      <td>NaN</td>\n",
       "      <td>0</td>\n",
       "      <td>9</td>\n",
       "      <td>2008</td>\n",
       "      <td>WD</td>\n",
       "      <td>Normal</td>\n",
       "      <td>223500</td>\n",
       "    </tr>\n",
       "    <tr>\n",
       "      <th>3</th>\n",
       "      <td>4</td>\n",
       "      <td>70</td>\n",
       "      <td>RL</td>\n",
       "      <td>60.0</td>\n",
       "      <td>9550</td>\n",
       "      <td>Pave</td>\n",
       "      <td>NaN</td>\n",
       "      <td>IR1</td>\n",
       "      <td>Lvl</td>\n",
       "      <td>AllPub</td>\n",
       "      <td>...</td>\n",
       "      <td>0</td>\n",
       "      <td>NaN</td>\n",
       "      <td>NaN</td>\n",
       "      <td>NaN</td>\n",
       "      <td>0</td>\n",
       "      <td>2</td>\n",
       "      <td>2006</td>\n",
       "      <td>WD</td>\n",
       "      <td>Abnorml</td>\n",
       "      <td>140000</td>\n",
       "    </tr>\n",
       "    <tr>\n",
       "      <th>4</th>\n",
       "      <td>5</td>\n",
       "      <td>60</td>\n",
       "      <td>RL</td>\n",
       "      <td>84.0</td>\n",
       "      <td>14260</td>\n",
       "      <td>Pave</td>\n",
       "      <td>NaN</td>\n",
       "      <td>IR1</td>\n",
       "      <td>Lvl</td>\n",
       "      <td>AllPub</td>\n",
       "      <td>...</td>\n",
       "      <td>0</td>\n",
       "      <td>NaN</td>\n",
       "      <td>NaN</td>\n",
       "      <td>NaN</td>\n",
       "      <td>0</td>\n",
       "      <td>12</td>\n",
       "      <td>2008</td>\n",
       "      <td>WD</td>\n",
       "      <td>Normal</td>\n",
       "      <td>250000</td>\n",
       "    </tr>\n",
       "  </tbody>\n",
       "</table>\n",
       "<p>5 rows × 81 columns</p>\n",
       "</div>"
      ],
      "text/plain": [
       "   Id  MSSubClass MSZoning  LotFrontage  LotArea Street Alley LotShape  \\\n",
       "0   1          60       RL         65.0     8450   Pave   NaN      Reg   \n",
       "1   2          20       RL         80.0     9600   Pave   NaN      Reg   \n",
       "2   3          60       RL         68.0    11250   Pave   NaN      IR1   \n",
       "3   4          70       RL         60.0     9550   Pave   NaN      IR1   \n",
       "4   5          60       RL         84.0    14260   Pave   NaN      IR1   \n",
       "\n",
       "  LandContour Utilities  ... PoolArea PoolQC Fence MiscFeature MiscVal MoSold  \\\n",
       "0         Lvl    AllPub  ...        0    NaN   NaN         NaN       0      2   \n",
       "1         Lvl    AllPub  ...        0    NaN   NaN         NaN       0      5   \n",
       "2         Lvl    AllPub  ...        0    NaN   NaN         NaN       0      9   \n",
       "3         Lvl    AllPub  ...        0    NaN   NaN         NaN       0      2   \n",
       "4         Lvl    AllPub  ...        0    NaN   NaN         NaN       0     12   \n",
       "\n",
       "  YrSold  SaleType  SaleCondition  SalePrice  \n",
       "0   2008        WD         Normal     208500  \n",
       "1   2007        WD         Normal     181500  \n",
       "2   2008        WD         Normal     223500  \n",
       "3   2006        WD        Abnorml     140000  \n",
       "4   2008        WD         Normal     250000  \n",
       "\n",
       "[5 rows x 81 columns]"
      ]
     },
     "execution_count": 3,
     "metadata": {},
     "output_type": "execute_result"
    }
   ],
   "source": [
    "df = pd.read_csv(\"data/train.csv\")\n",
    "df.head()"
   ]
  },
  {
   "cell_type": "code",
   "execution_count": 42,
   "metadata": {},
   "outputs": [
    {
     "data": {
      "text/plain": [
       "Index(['Id', 'MSSubClass', 'LotFrontage', 'LotArea', 'OverallQual',\n",
       "       'OverallCond', 'YearBuilt', 'YearRemodAdd', 'MasVnrArea', 'BsmtFinSF1',\n",
       "       'BsmtFinSF2', 'BsmtUnfSF', 'TotalBsmtSF', '1stFlrSF', '2ndFlrSF',\n",
       "       'LowQualFinSF', 'GrLivArea', 'BsmtFullBath', 'BsmtHalfBath', 'FullBath',\n",
       "       'HalfBath', 'BedroomAbvGr', 'KitchenAbvGr', 'TotRmsAbvGrd',\n",
       "       'Fireplaces', 'GarageYrBlt', 'GarageCars', 'GarageArea', 'WoodDeckSF',\n",
       "       'OpenPorchSF', 'EnclosedPorch', '3SsnPorch', 'ScreenPorch', 'PoolArea',\n",
       "       'MiscVal', 'MoSold', 'YrSold', 'SalePrice'],\n",
       "      dtype='object')"
      ]
     },
     "execution_count": 42,
     "metadata": {},
     "output_type": "execute_result"
    }
   ],
   "source": [
    "num_df = df.select_dtypes(include=['int64','float64']).copy()\n",
    "num_df.keys()"
   ]
  },
  {
   "cell_type": "code",
   "execution_count": 43,
   "metadata": {},
   "outputs": [],
   "source": [
    "used_labels = ['LotFrontage', 'LotArea', 'YearBuilt', 'MSSubClass', 'MoSold', 'YrSold']\n",
    "X = num_df[used_labels]\n",
    "y=num_df['SalePrice']\n"
   ]
  },
  {
   "cell_type": "code",
   "execution_count": 44,
   "metadata": {},
   "outputs": [],
   "source": [
    "X=X.fillna(X.mean()).reset_index()\n",
    "X = X.drop(\"index\", axis=1)\n",
    "\n",
    "y = y.reset_index().drop(\"index\", axis=1)"
   ]
  },
  {
   "cell_type": "code",
   "execution_count": 45,
   "metadata": {},
   "outputs": [],
   "source": [
    "model = keras.Sequential()\n",
    "model.add(keras.layers.Dense(6, activation='relu', input_shape=(6,)))\n",
    "model.add(keras.layers.Dense(6, activation='relu'))\n",
    "model.add(keras.layers.Dense(1))\n",
    "\n",
    "model.compile(optimizer= 'adam', loss='mean_squared_error')\n"
   ]
  },
  {
   "cell_type": "code",
   "execution_count": 46,
   "metadata": {},
   "outputs": [
    {
     "name": "stdout",
     "output_type": "stream",
     "text": [
      "Epoch 1/30\n",
      "1460/1460 [==============================] - 0s 247us/step - loss: 39504104058.0384\n",
      "Epoch 2/30\n",
      "1460/1460 [==============================] - 0s 69us/step - loss: 39059438336.7014\n",
      "Epoch 3/30\n",
      " 640/1460 [============>.................] - ETA: 0s - loss: 37923222528.0000"
     ]
    },
    {
     "name": "stderr",
     "output_type": "stream",
     "text": [
      "c:\\users\\tnhaw\\anaconda3\\envs\\myenv\\lib\\site-packages\\keras\\callbacks\\callbacks.py:846: RuntimeWarning: Early stopping conditioned on metric `val_loss` which is not available. Available metrics are: loss\n",
      "  (self.monitor, ','.join(list(logs.keys()))), RuntimeWarning\n"
     ]
    },
    {
     "name": "stdout",
     "output_type": "stream",
     "text": [
      "1460/1460 [==============================] - 0s 86us/step - loss: 38521751894.2685\n",
      "Epoch 4/30\n",
      "1460/1460 [==============================] - 0s 90us/step - loss: 37563596025.6877\n",
      "Epoch 5/30\n",
      "1460/1460 [==============================] - 0s 77us/step - loss: 36024150801.5342\n",
      "Epoch 6/30\n",
      "1460/1460 [==============================] - 0s 89us/step - loss: 33920509087.9123\n",
      "Epoch 7/30\n",
      "1460/1460 [==============================] - 0s 85us/step - loss: 31188459003.7918\n",
      "Epoch 8/30\n",
      "1460/1460 [==============================] - 0s 88us/step - loss: 27919326053.6986\n",
      "Epoch 9/30\n",
      "1460/1460 [==============================] - 0s 81us/step - loss: 24353187980.2740\n",
      "Epoch 10/30\n",
      "1460/1460 [==============================] - 0s 85us/step - loss: 20895445626.0384\n",
      "Epoch 11/30\n",
      "1460/1460 [==============================] - ETA: 0s - loss: 18097717270.755 - 0s 80us/step - loss: 18097791082.6082\n",
      "Epoch 12/30\n",
      "1460/1460 [==============================] - 0s 86us/step - loss: 15933236801.9288\n",
      "Epoch 13/30\n",
      "1460/1460 [==============================] - 0s 86us/step - loss: 14617850815.4740\n",
      "Epoch 14/30\n",
      "1460/1460 [==============================] - 0s 82us/step - loss: 13788274393.4247\n",
      "Epoch 15/30\n",
      "1460/1460 [==============================] - 0s 77us/step - loss: 13193520313.1616\n",
      "Epoch 16/30\n",
      "1460/1460 [==============================] - 0s 79us/step - loss: 12872173754.5644\n",
      "Epoch 17/30\n",
      "1460/1460 [==============================] - 0s 89us/step - loss: 12591754966.6192\n",
      "Epoch 18/30\n",
      "1460/1460 [==============================] - 0s 88us/step - loss: 12364475145.1178\n",
      "Epoch 19/30\n",
      "1460/1460 [==============================] - 0s 83us/step - loss: 12179714473.0301\n",
      "Epoch 20/30\n",
      "1460/1460 [==============================] - 0s 77us/step - loss: 12063469963.5726\n",
      "Epoch 21/30\n",
      "1460/1460 [==============================] - 0s 85us/step - loss: 11795836672.7014\n",
      "Epoch 22/30\n",
      "1460/1460 [==============================] - 0s 87us/step - loss: 11663909803.8356\n",
      "Epoch 23/30\n",
      "1460/1460 [==============================] - 0s 82us/step - loss: 11488619677.1068\n",
      "Epoch 24/30\n",
      "1460/1460 [==============================] - 0s 84us/step - loss: 11325243225.0740\n",
      "Epoch 25/30\n",
      "1460/1460 [==============================] - 0s 88us/step - loss: 11197421643.7479\n",
      "Epoch 26/30\n",
      "1460/1460 [==============================] - 0s 81us/step - loss: 11042666625.0521\n",
      "Epoch 27/30\n",
      "1460/1460 [==============================] - 0s 87us/step - loss: 10913842835.2877\n",
      "Epoch 28/30\n",
      "1460/1460 [==============================] - 0s 85us/step - loss: 10716087632.6575\n",
      "Epoch 29/30\n",
      "1460/1460 [==============================] - 0s 91us/step - loss: 10605662062.1151\n",
      "Epoch 30/30\n",
      "1460/1460 [==============================] - 0s 88us/step - loss: 10505217269.4795\n"
     ]
    },
    {
     "data": {
      "text/plain": [
       "<keras.callbacks.callbacks.History at 0x1a2db828548>"
      ]
     },
     "execution_count": 46,
     "metadata": {},
     "output_type": "execute_result"
    }
   ],
   "source": [
    "model.fit(X, y, epochs=30, callbacks= [keras.callbacks.EarlyStopping(patience=5)])"
   ]
  },
  {
   "cell_type": "code",
   "execution_count": 47,
   "metadata": {},
   "outputs": [],
   "source": [
    "test = pd.read_csv(\"test.csv\")\n",
    "df_prices = pd.read_csv(\"sample_submission.csv\")"
   ]
  },
  {
   "cell_type": "code",
   "execution_count": 35,
   "metadata": {},
   "outputs": [],
   "source": [
    "y_test = df_prices[\"SalePrice\"]\n",
    "X_test = test[used_labels]"
   ]
  },
  {
   "cell_type": "code",
   "execution_count": 48,
   "metadata": {},
   "outputs": [],
   "source": [
    "X_test = X_test.fillna(X_test.mean()).reset_index()\n",
    "X_test = X_test.drop(\"index\", axis=1)\n",
    "\n",
    "y_test = y_test.reset_index().drop(\"index\", axis=1)"
   ]
  },
  {
   "cell_type": "code",
   "execution_count": 50,
   "metadata": {},
   "outputs": [],
   "source": [
    "import matplotlib.pyplot as plt "
   ]
  },
  {
   "cell_type": "code",
   "execution_count": 51,
   "metadata": {},
   "outputs": [
    {
     "name": "stdout",
     "output_type": "stream",
     "text": [
      "Average error : 13409.720899606822 $.\n",
      "Average Price : 180921.19589041095 $.\n",
      "Pourcentage d'erreur : 7.411912591894135 %.\n"
     ]
    },
    {
     "data": {
      "image/png": "[encoded data removed]",
      "text/plain": [
       "<Figure size 432x288 with 1 Axes>"
      ]
     },
     "metadata": {
      "needs_background": "light"
     },
     "output_type": "display_data"
    }
   ],
   "source": [
    "\n",
    "y_predi_test = model.predict(X_test) #on predit à partir de X_test\n",
    "\n",
    "x=np.arange(0,len(y_test),1) # creation d'une graduation en abscisse\n",
    "y_predi_test = y_predi_test.tolist() # on se retrouve avec une matrice (ce sera plus simple pour R_2)\n",
    "\n",
    "#R_squared = ( ((y_val - y_val.mean()) ** 2).sum() - ((y_val - y_pred) ** 2).sum())/((y_val - y_val.mean()) ** 2).sum()\n",
    "# (y_pred-y_val)**2/np.mean(y_val)\n",
    "\n",
    "error_list = []\n",
    "for i in range(0,len(y_test)): \n",
    "    error = ((y_predi_test[i] - y_test[\"SalePrice\"][i])**2)/(y_test.mean())\n",
    "    error_list.append(error)\n",
    "\n",
    "print(f\"Average error : {(sum(error_list)/len(error_list))[0]} $.\")\n",
    "\n",
    "mean = df['SalePrice'].mean()\n",
    "print(f\"Average Price : {mean} $.\")\n",
    "\n",
    "print(f\"Pourcentage d'erreur : {((sum(error_list)/len(error_list))[0]/mean)*100} %.\")\n",
    "\n",
    "n = 200\n",
    "\n",
    "plt.plot(x[:n], y_predi_test[:n], c='green', label= \"valeur prédite\")\n",
    "plt.plot(x[:n], y_test[:n], c='purple', label= \"vraie valeur\")\n",
    "plt.plot(x[:n], error_list[:n], c='orange', label = \"R^2\")\n",
    "plt.xlabel(\"Maisons\")\n",
    "plt.ylabel(\"Valeurs\")\n",
    "plt.legend(loc = 'best')\n",
    "plt.show();"
   ]
  },
  {
   "cell_type": "markdown",
   "metadata": {},
   "source": [
    "On obtient un algorithme facile à entraîner, et des résultats qui sont en moyenne bons. On constate toutefois que la valeur prédite ne colle pas aussi précisément à la valeur réelle dans la plupart des cas."
   ]
  },
  {
   "cell_type": "code",
   "execution_count": null,
   "metadata": {},
   "outputs": [],
   "source": []
  }
 ],
 "metadata": {
  "kernelspec": {
   "display_name": "Python 3",
   "language": "python",
   "name": "python3"
  },
  "language_info": {
   "codemirror_mode": {
    "name": "ipython",
    "version": 3
   },
   "file_extension": ".py",
   "mimetype": "text/x-python",
   "name": "python",
   "nbconvert_exporter": "python",
   "pygments_lexer": "ipython3",
   "version": "3.6.12"
  }
 },
 "nbformat": 4,
 "nbformat_minor": 4
}
